{
 "cells": [
  {
   "cell_type": "code",
   "execution_count": 5,
   "metadata": {},
   "outputs": [
    {
     "name": "stdout",
     "output_type": "stream",
     "text": [
      "Thu Jun 27 18:19:55 2024       \n",
      "+-----------------------------------------------------------------------------------------+\n",
      "| NVIDIA-SMI 552.22                 Driver Version: 552.22         CUDA Version: 12.4     |\n",
      "|-----------------------------------------+------------------------+----------------------+\n",
      "| GPU  Name                     TCC/WDDM  | Bus-Id          Disp.A | Volatile Uncorr. ECC |\n",
      "| Fan  Temp   Perf          Pwr:Usage/Cap |           Memory-Usage | GPU-Util  Compute M. |\n",
      "|                                         |                        |               MIG M. |\n",
      "|=========================================+========================+======================|\n",
      "|   0  NVIDIA GeForce RTX 3050 ...  WDDM  |   00000000:01:00.0 Off |                  N/A |\n",
      "| N/A   53C    P8              3W /   84W |      34MiB /   4096MiB |      0%      Default |\n",
      "|                                         |                        |                  N/A |\n",
      "+-----------------------------------------+------------------------+----------------------+\n",
      "                                                                                         \n",
      "+-----------------------------------------------------------------------------------------+\n",
      "| Processes:                                                                              |\n",
      "|  GPU   GI   CI        PID   Type   Process name                              GPU Memory |\n",
      "|        ID   ID                                                               Usage      |\n",
      "|=========================================================================================|\n",
      "|    0   N/A  N/A     12324    C+G   ...000.3.0_x64\\WsaClient\\WsaClient.exe      N/A      |\n",
      "+-----------------------------------------------------------------------------------------+\n"
     ]
    }
   ],
   "source": [
    "!nvidia-smi"
   ]
  },
  {
   "cell_type": "code",
   "execution_count": 6,
   "metadata": {},
   "outputs": [
    {
     "name": "stdout",
     "output_type": "stream",
     "text": [
      "Python 3.11.9\n"
     ]
    }
   ],
   "source": [
    "!python --version"
   ]
  },
  {
   "cell_type": "code",
   "execution_count": 7,
   "metadata": {},
   "outputs": [
    {
     "name": "stdout",
     "output_type": "stream",
     "text": [
      "Ultralytics YOLOv8.2.45  Python-3.11.9 torch-2.3.1+cpu CPU (12th Gen Intel Core(TM) i5-12500H)\n",
      "Setup complete  (16 CPUs, 15.6 GB RAM, 305.1/953.9 GB disk)\n"
     ]
    }
   ],
   "source": [
    "from IPython import display\n",
    "display.clear_output()\n",
    "\n",
    "import ultralytics\n",
    "ultralytics.checks()"
   ]
  },
  {
   "cell_type": "code",
   "execution_count": 8,
   "metadata": {},
   "outputs": [],
   "source": [
    "from ultralytics import YOLO\n",
    "import cv2\n",
    "from PIL import Image as PILImage\n",
    "from IPython.display import display, Image"
   ]
  },
  {
   "cell_type": "code",
   "execution_count": 9,
   "metadata": {},
   "outputs": [
    {
     "name": "stdout",
     "output_type": "stream",
     "text": [
      "\n",
      "Found https://media.roboflow.com/notebooks/examples/dog.jpeg locally at dog.jpeg\n",
      "image 1/1 d:\\Coding\\Python_Programming\\ANPR\\dog.jpeg: 640x384 1 person, 1 car, 1 dog, 89.5ms\n",
      "Speed: 2.0ms preprocess, 89.5ms inference, 3.0ms postprocess per image at shape (1, 3, 640, 384)\n"
     ]
    }
   ],
   "source": [
    "model = YOLO(f'yolov8n.pt')\n",
    "results = model.predict(source='https://media.roboflow.com/notebooks/examples/dog.jpeg', conf=0.25)"
   ]
  },
  {
   "cell_type": "code",
   "execution_count": 10,
   "metadata": {},
   "outputs": [
    {
     "name": "stdout",
     "output_type": "stream",
     "text": [
      "\n",
      "0: 384x640 4 License_Plates, 132.5ms\n",
      "Speed: 2.0ms preprocess, 132.5ms inference, 1.0ms postprocess per image at shape (1, 3, 384, 640)\n"
     ]
    }
   ],
   "source": [
    "model = YOLO(f'best.pt')\n",
    "image = PILImage.open(\"sample.png\")\n",
    "results = model.predict(source=image, conf=0.25)\n",
    "# results = model.predict(source='test.jpg', conf=0.25 , save=True)"
   ]
  },
  {
   "cell_type": "code",
   "execution_count": 11,
   "metadata": {},
   "outputs": [
    {
     "data": {
      "text/plain": [
       "[[500.96356201171875,\n",
       "  886.4089965820312,\n",
       "  597.71484375,\n",
       "  923.9126586914062,\n",
       "  0.626331090927124,\n",
       "  0.0],\n",
       " [1211.5064697265625,\n",
       "  778.73583984375,\n",
       "  1288.612548828125,\n",
       "  816.2449951171875,\n",
       "  0.6045674085617065,\n",
       "  0.0],\n",
       " [51.32539367675781,\n",
       "  398.26995849609375,\n",
       "  95.39958953857422,\n",
       "  417.6294250488281,\n",
       "  0.2827376127243042,\n",
       "  0.0],\n",
       " [935.6991577148438,\n",
       "  1008.2431640625,\n",
       "  973.7334594726562,\n",
       "  1046.8626708984375,\n",
       "  0.2687482237815857,\n",
       "  0.0]]"
      ]
     },
     "execution_count": 11,
     "metadata": {},
     "output_type": "execute_result"
    }
   ],
   "source": [
    "results[0].boxes.data.tolist()"
   ]
  },
  {
   "cell_type": "code",
   "execution_count": 12,
   "metadata": {},
   "outputs": [
    {
     "data": {
      "text/plain": [
       "[500.96356201171875,\n",
       " 886.4089965820312,\n",
       " 597.71484375,\n",
       " 923.9126586914062,\n",
       " 0.626331090927124,\n",
       " 0.0]"
      ]
     },
     "execution_count": 12,
     "metadata": {},
     "output_type": "execute_result"
    }
   ],
   "source": [
    "x1, y1, x2, y2, score, class_id = results[0].boxes.data.tolist()[0]\n",
    "[x1,y1,x2,y2,score,class_id]"
   ]
  },
  {
   "cell_type": "code",
   "execution_count": 13,
   "metadata": {},
   "outputs": [],
   "source": [
    "# !pip install git+https://github.com/sberbank-ai/Real-ESRGAN.git"
   ]
  },
  {
   "cell_type": "code",
   "execution_count": 14,
   "metadata": {},
   "outputs": [
    {
     "name": "stdout",
     "output_type": "stream",
     "text": [
      "device: cpu\n"
     ]
    }
   ],
   "source": [
    "\n",
    "from RealESRGAN import RealESRGAN\n",
    "from PIL import Image\n",
    "import numpy as np\n",
    "import torch\n",
    "\n",
    "device = torch.device('cuda' if torch.cuda.is_available() else 'cpu')\n",
    "print('device:', device)\n",
    "\n",
    "model_scale = \"4\" #@param [\"2\", \"4\", \"8\"] {allow-input: false}\n",
    "\n",
    "model = RealESRGAN(device, scale=int(model_scale))\n",
    "model.load_weights(f'RealESRGAN_x4.pth')"
   ]
  },
  {
   "cell_type": "code",
   "execution_count": 31,
   "metadata": {},
   "outputs": [
    {
     "name": "stdout",
     "output_type": "stream",
     "text": [
      "Finished! Image saved\n"
     ]
    }
   ],
   "source": [
    "#@title Upload and upscale images or .tar archives\n",
    "IMAGE_FORMATS = ('.png', '.jpg', '.jpeg', '.tiff', '.bmp', '.gif')\n",
    "def process_input(filename,bbox):\n",
    "    image = Image.open(filename).convert('RGB').crop(bbox)\n",
    "    sr_image = model.predict(np.array(image))\n",
    "    sr_image.save(\"output.png\")\n",
    "    threshold_value = 120\n",
    "    # Create a binary image with inverse thresholding\n",
    "    binary_image = sr_image.convert(\"L\").point(lambda p: 255 if p < threshold_value else 0)\n",
    "    binary_image.save(\"output_binary.png\")\n",
    "    print(f'Finished! Image saved')\n",
    "process_input('sample.png',[x1, y1, x2, y2])"
   ]
  },
  {
   "cell_type": "code",
   "execution_count": 44,
   "metadata": {},
   "outputs": [],
   "source": [
    "\n",
    "import numpy as np\n",
    "# Load an image from file\n",
    "from PIL import Image as PILImage\n",
    "image = PILImage.open(\"sample.png\")\n",
    "\n",
    "bbox = [x1, y1, x2, y2]\n",
    "# Crop the image using the bounding box coordinates\n",
    "cropped_image = image.crop(bbox)\n",
    "\n",
    "# Convert the cropped image to grayscale\n",
    "gray_image = cropped_image.convert(\"L\")\n",
    "\n",
    "# Apply a threshold to the grayscale image\n",
    "threshold_value = 120\n",
    "\n",
    "# Create a binary image with inverse thresholding\n",
    "binary_image = gray_image.point(lambda p: 255 if p < threshold_value else 0)\n",
    "\n",
    "# Display the binary image\n",
    "binary_image.show()\n",
    "# binary_image = np.array(binary_image)\n",
    "# Optionally, save the cropped image\n",
    "# cropped_image.save('cropped_image.jpg')\n"
   ]
  },
  {
   "cell_type": "code",
   "execution_count": 34,
   "metadata": {},
   "outputs": [
    {
     "name": "stderr",
     "output_type": "stream",
     "text": [
      "Neither CUDA nor MPS are available - defaulting to CPU. Note: This module is much faster with a GPU.\n"
     ]
    },
    {
     "name": "stdout",
     "output_type": "stream",
     "text": [
      "Text: NAI3MrU, Probability: 0.14497648984171513\n"
     ]
    }
   ],
   "source": [
    "import easyocr\n",
    "\n",
    "# Initialize the OCR reader\n",
    "reader = easyocr.Reader(['en'], gpu=True)\n",
    "result = reader.readtext(\"output_binary.png\")\n",
    "\n",
    "for (bbox, text, prob) in result:\n",
    "    text = ''.join(list(map(lambda x: x.strip(), text.split())))\n",
    "    # if len(text) < 9 or len(text) > 10:\n",
    "    #     continue\n",
    "    print(f'Text: {text}, Probability: {prob}')"
   ]
  },
  {
   "cell_type": "code",
   "execution_count": null,
   "metadata": {},
   "outputs": [],
   "source": [
    "# Initialize the OCR reader\n",
    "import string\n",
    "\n",
    "reader = easyocr.Reader([\"en\"], gpu=True)\n",
    "\n",
    "# Mapping dictionaries for character conversion\n",
    "dict_char_to_int = {\"O\": \"0\", \"I\": \"1\", \"J\": \"3\", \"A\": \"4\", \"G\": \"6\", \"S\": \"5\"}\n",
    "\n",
    "dict_int_to_char = {\"0\": \"O\", \"1\": \"I\", \"3\": \"J\", \"4\": \"A\", \"6\": \"G\", \"5\": \"S\"}\n",
    "\n",
    "\n",
    "def license_complies_format(text):\n",
    "    \"\"\"\n",
    "    Check if the license plate text complies with the required format.\n",
    "\n",
    "    Args:\n",
    "        text (str): License plate text.\n",
    "\n",
    "    Returns:\n",
    "        bool: True if the license plate complies with the format, False otherwise.\n",
    "    \"\"\"\n",
    "    # Check the length of the license plate text\n",
    "    length = len(text)\n",
    "    if length != 9 and length != 10:\n",
    "        print(\"Invalid length\" , length)\n",
    "        return False\n",
    "\n",
    "    # CCNNCONNNN format\n",
    "    if length == 10:\n",
    "        if (\n",
    "            (text[0] in string.ascii_uppercase or text[0] in dict_int_to_char.keys())\n",
    "            and (\n",
    "                text[1] in string.ascii_uppercase or text[1] in dict_int_to_char.keys()\n",
    "            )\n",
    "            and (\n",
    "                text[2] in [\"0\", \"1\", \"2\", \"3\", \"4\", \"5\", \"6\", \"7\", \"8\", \"9\"]\n",
    "                or text[2] in dict_char_to_int.keys()\n",
    "            )\n",
    "            and (\n",
    "                text[3] in [\"0\", \"1\", \"2\", \"3\", \"4\", \"5\", \"6\", \"7\", \"8\", \"9\"]\n",
    "                or text[3] in dict_char_to_int.keys()\n",
    "            )\n",
    "            and (\n",
    "                text[4] in string.ascii_uppercase or text[4] in dict_int_to_char.keys()\n",
    "            )\n",
    "            and (\n",
    "                text[5] in string.ascii_uppercase or text[5] in dict_int_to_char.keys()\n",
    "            )\n",
    "            and (\n",
    "                text[6] in [\"0\", \"1\", \"2\", \"3\", \"4\", \"5\", \"6\", \"7\", \"8\", \"9\"]\n",
    "                or text[3] in dict_char_to_int.keys()\n",
    "            )\n",
    "            and (\n",
    "                text[7] in [\"0\", \"1\", \"2\", \"3\", \"4\", \"5\", \"6\", \"7\", \"8\", \"9\"]\n",
    "                or text[3] in dict_char_to_int.keys()\n",
    "            )\n",
    "            and (\n",
    "                text[8] in [\"0\", \"1\", \"2\", \"3\", \"4\", \"5\", \"6\", \"7\", \"8\", \"9\"]\n",
    "                or text[3] in dict_char_to_int.keys()\n",
    "            )\n",
    "            and (\n",
    "                text[9] in [\"0\", \"1\", \"2\", \"3\", \"4\", \"5\", \"6\", \"7\", \"8\", \"9\"]\n",
    "                or text[3] in dict_char_to_int.keys()\n",
    "            )\n",
    "        ):\n",
    "            return True\n",
    "    elif length == 9:\n",
    "        if (\n",
    "            (text[0] in string.ascii_uppercase or text[0] in dict_int_to_char.keys())\n",
    "            and (\n",
    "                text[1] in string.ascii_uppercase or text[1] in dict_int_to_char.keys()\n",
    "            )\n",
    "            and (\n",
    "                text[2] in [\"0\", \"1\", \"2\", \"3\", \"4\", \"5\", \"6\", \"7\", \"8\", \"9\"]\n",
    "                or text[2] in dict_char_to_int.keys()\n",
    "            )\n",
    "            and (\n",
    "                text[3] in [\"0\", \"1\", \"2\", \"3\", \"4\", \"5\", \"6\", \"7\", \"8\", \"9\"]\n",
    "                or text[3] in dict_char_to_int.keys()\n",
    "            )\n",
    "            and (\n",
    "                text[4] in string.ascii_uppercase or text[4] in dict_int_to_char.keys()\n",
    "            )\n",
    "            and (\n",
    "                text[5] in [\"0\", \"1\", \"2\", \"3\", \"4\", \"5\", \"6\", \"7\", \"8\", \"9\"]\n",
    "                or text[3] in dict_char_to_int.keys()\n",
    "            )\n",
    "            and (\n",
    "                text[6] in [\"0\", \"1\", \"2\", \"3\", \"4\", \"5\", \"6\", \"7\", \"8\", \"9\"]\n",
    "                or text[3] in dict_char_to_int.keys()\n",
    "            )\n",
    "            and (\n",
    "                text[7] in [\"0\", \"1\", \"2\", \"3\", \"4\", \"5\", \"6\", \"7\", \"8\", \"9\"]\n",
    "                or text[3] in dict_char_to_int.keys()\n",
    "            )\n",
    "            and (\n",
    "                text[8] in [\"0\", \"1\", \"2\", \"3\", \"4\", \"5\", \"6\", \"7\", \"8\", \"9\"]\n",
    "                or text[3] in dict_char_to_int.keys()\n",
    "            )\n",
    "        ):\n",
    "            return True\n",
    "    else:\n",
    "        return False\n",
    "\n",
    "\n",
    "def format_license(text):\n",
    "    \"\"\"\n",
    "    Format the license plate text by converting characters using the mapping dictionaries.\n",
    "\n",
    "    Args:\n",
    "        text (str): License plate text.\n",
    "\n",
    "    Returns:\n",
    "        str: Formatted license plate text.\n",
    "    \"\"\"\n",
    "    # CCNNCONNNN\n",
    "    license_plate_ = \"\"\n",
    "\n",
    "    # Check the length of the license plate text\n",
    "    if len(text) == 10:\n",
    "        # Mapping for a 10-character license plate\n",
    "        mapping = {\n",
    "            0: dict_int_to_char,\n",
    "            1: dict_int_to_char,\n",
    "            2: dict_char_to_int,\n",
    "            3: dict_char_to_int,\n",
    "            4: dict_int_to_char,\n",
    "            5: dict_int_to_char,\n",
    "            6: dict_char_to_int,\n",
    "            7: dict_char_to_int,\n",
    "            8: dict_char_to_int,\n",
    "            9: dict_char_to_int,\n",
    "        }\n",
    "    else:\n",
    "        # Mapping for a 9-character license plate\n",
    "        mapping = {\n",
    "            0: dict_int_to_char,\n",
    "            1: dict_int_to_char,\n",
    "            2: dict_char_to_int,\n",
    "            3: dict_char_to_int,\n",
    "            4: dict_int_to_char,\n",
    "            5: dict_char_to_int,\n",
    "            6: dict_char_to_int,\n",
    "            7: dict_char_to_int,\n",
    "            8: dict_char_to_int,\n",
    "        }\n",
    "\n",
    "    # Iterate over the mapping keys\n",
    "    for j in mapping.keys():\n",
    "        # Check if the character at index j in the text is in the mapping dictionary\n",
    "        if text[j] in mapping[j].keys():\n",
    "            # If it is, append the mapped character to the license_plate_ string\n",
    "            license_plate_ += mapping[j][text[j]]\n",
    "        else:\n",
    "            # If it is not, append the original character to the license_plate_ string\n",
    "            license_plate_ += text[j]\n",
    "\n",
    "    return license_plate_\n",
    "\n",
    "\n",
    "def read_license_plate(license_plate_crop):\n",
    "    \"\"\"\n",
    "    Read the license plate text from the given cropped image.\n",
    "\n",
    "    Args:\n",
    "        license_plate_crop (PIL.Image.Image): Cropped image containing the license plate.\n",
    "\n",
    "    Returns:\n",
    "        tuple: Tuple containing the formatted license plate text and its confidence score.\n",
    "               If the license plate text cannot be read, None is returned for both elements of the tuple.\n",
    "    \"\"\"\n",
    "\n",
    "    # Perform text detection on the license plate crop\n",
    "    detections = reader.readtext(license_plate_crop)\n",
    "\n",
    "    for detection in detections:\n",
    "        bbox, text, score = detection\n",
    "\n",
    "        # Preprocess the detected text\n",
    "        text = text.upper().replace(\" \", \"\")\n",
    "\n",
    "        # Print the detected text and its confidence score\n",
    "        print(text, score)\n",
    "\n",
    "        # Check if the license plate text complies with the expected format\n",
    "        if license_complies_format(text):\n",
    "            # Format the license plate text and return it along with the confidence score\n",
    "            return format_license(text), score\n",
    "\n",
    "    # If no valid license plate text is found, return None for both elements of the tuple\n",
    "    return None, None\n",
    "\n",
    "\n",
    "read_license_plate(binary_image)"
   ]
  },
  {
   "cell_type": "code",
   "execution_count": null,
   "metadata": {},
   "outputs": [],
   "source": [
    "from PIL import Image, ImageDraw, ImageFont\n",
    "\n",
    "def draw_border(img, car_bbox, license_plate_bbox, license_plate_text,license_plate_score, thickness=10, line_length_x=50, line_length_y=50):\n",
    "    draw = ImageDraw.Draw(img)\n",
    "    car_color = \"green\"\n",
    "    license_plate_color = \"red\"\n",
    "    x1, y1, x2, y2 = car_bbox\n",
    "    lp_x1, lp_y1, lp_x2, lp_y2 = map(int, license_plate_bbox)\n",
    "        \n",
    "    ## Draw the border for car bounding box\n",
    "    # Top-left\n",
    "    draw.line([(x1, y1), (x1, y1 + line_length_y)], fill=car_color, width=thickness)\n",
    "    draw.line([(x1, y1), (x1 + line_length_x, y1)], fill=car_color, width=thickness)\n",
    "\n",
    "    # Bottom-left\n",
    "    draw.line([(x1, y2), (x1, y2 - line_length_y)], fill=car_color, width=thickness)\n",
    "    draw.line([(x1, y2), (x1 + line_length_x, y2)], fill=car_color, width=thickness)\n",
    "\n",
    "    # Top-right\n",
    "    draw.line([(x2, y1), (x2 - line_length_x, y1)], fill=car_color, width=thickness)\n",
    "    draw.line([(x2, y1), (x2, y1 + line_length_y)], fill=car_color, width=thickness)\n",
    "\n",
    "    # Bottom-right\n",
    "    draw.line([(x2, y2), (x2, y2 - line_length_y)], fill=car_color, width=thickness)\n",
    "    draw.line([(x2, y2), (x2 - line_length_x, y2)], fill=car_color, width=thickness)\n",
    "    \n",
    "    # Draw the license plate bounding box\n",
    "    draw.rectangle(license_plate_bbox, outline=license_plate_color, width=thickness//2)\n",
    "    \n",
    "    font = ImageFont.load_default(size=16)\n",
    "    score_text = f\"Score: {license_plate_score:.2f}\"\n",
    "    draw.text((lp_x1, lp_y2), license_plate_text, fill =\"white\", font = font, align =\"right\") \n",
    "    draw.text((lp_x2, lp_y2), score_text, fill =\"white\", font = font, align =\"right\") \n",
    "    \n",
    "    return img\n",
    "\n",
    "# Example usage\n",
    "res = {\n",
    "    'car': {'bbox': [375.3855895996094, 684.0321655273438, 718.805419921875, 990.9774169921875]}, \n",
    "    'license_plate': {\n",
    "        'bbox': [500.96356201171875, 886.4089965820312, 597.71484375, 923.9126586914062], \n",
    "        'text': 'NA13NRU', \n",
    "        'bbox_score': 0.6263312101364136, \n",
    "        'text_score': 0.8679459956177277\n",
    "    }\n",
    "}\n",
    "car_bbox = res['car']['bbox']\n",
    "license_plate_bbox = res['license_plate']['bbox']\n",
    "license_plate_text = res['license_plate']['text']\n",
    "license_plate_score = res['license_plate']['text_score']\n",
    "image = Image.open('sample.png')\n",
    "image = draw_border(image, car_bbox, license_plate_bbox, license_plate_text, license_plate_score)\n",
    "image.crop(car_bbox).show()\n",
    "# image.show()\n"
   ]
  },
  {
   "cell_type": "code",
   "execution_count": null,
   "metadata": {},
   "outputs": [],
   "source": [
    "import cv2\n",
    "import matplotlib.pyplot as plt\n",
    "import numpy as np\n",
    "from PIL import Image as PILImage\n",
    "\n",
    "def draw_border(img, car_bbox, license_plate_bbox, license_plate_text, license_plate_score, thickness=10, line_length=50):\n",
    "    car_color = (0, 255, 0)  # Green color in BGR format\n",
    "    license_plate_color = (0, 0, 255)  # Red color in BGR format\n",
    "\n",
    "    x1, y1, x2, y2 = map(int, car_bbox)\n",
    "    lp_x1, lp_y1, lp_x2, lp_y2 = map(int, license_plate_bbox)\n",
    "\n",
    "    # Draw the border for car bounding box\n",
    "    cv2.rectangle(img, (x1, y1), (x2, y2), car_color, thickness)\n",
    "\n",
    "    # Draw lines extending from corners\n",
    "    cv2.line(img, (x1, y1), (x1 + line_length, y1), car_color, thickness)\n",
    "    cv2.line(img, (x1, y1), (x1, y1 + line_length), car_color, thickness)\n",
    "\n",
    "    cv2.line(img, (x2, y1), (x2 - line_length, y1), car_color, thickness)\n",
    "    cv2.line(img, (x2, y1), (x2, y1 + line_length), car_color, thickness)\n",
    "\n",
    "    cv2.line(img, (x1, y2), (x1 + line_length, y2), car_color, thickness)\n",
    "    cv2.line(img, (x1, y2), (x1, y2 - line_length), car_color, thickness)\n",
    "\n",
    "    cv2.line(img, (x2, y2), (x2 - line_length, y2), car_color, thickness)\n",
    "    cv2.line(img, (x2, y2), (x2, y2 - line_length), car_color, thickness)\n",
    "\n",
    "    \n",
    "\n",
    "\n",
    "    # Draw the license plate bounding box\n",
    "    cv2.rectangle(img, (lp_x1, lp_y1), (lp_x2, lp_y2), license_plate_color, 2)\n",
    "    \n",
    "    # For the text background\n",
    "    # Finds space required by the text so that we can put a background with that amount of width.\n",
    "    (w, h), _ = cv2.getTextSize(\n",
    "           license_plate_text, cv2.FONT_HERSHEY_SIMPLEX, 0.6, 1)\n",
    "\n",
    "    # # Add text for license plate text and score\n",
    "    cv2.rectangle(img, (lp_x1, lp_y1 - 20), (lp_x1 + w, lp_y1), license_plate_color, -1)\n",
    "    cv2.putText(img,license_plate_text, (lp_x1, lp_y1 - 5),\n",
    "                        cv2.FONT_HERSHEY_SIMPLEX, 0.6, [255,255,255], 1)\n",
    "    \n",
    "    score_text = f\"Score: {license_plate_score:.2f}\"\n",
    "    (w, h), _ = cv2.getTextSize(\n",
    "           score_text, cv2.FONT_HERSHEY_SIMPLEX, 0.6, 1)\n",
    "    cv2.rectangle(img, (lp_x1, lp_y2 + 20), (lp_x1 + w, lp_y2), license_plate_color, -1)\n",
    "    cv2.putText(img,score_text, (lp_x1, lp_y2 + 17),\n",
    "                        cv2.FONT_HERSHEY_SIMPLEX, 0.6, [255,255,255], 1)\n",
    "\n",
    "    return img\n",
    "\n",
    "# Example usage\n",
    "res = {\n",
    "    'car': {'bbox': [375, 684, 718, 990]}, \n",
    "    'license_plate': {\n",
    "        'bbox': [500, 886, 597, 923], \n",
    "        'text': 'NA13NRU', \n",
    "        'bbox_score': 0.6263312101364136, \n",
    "        'text_score': 0.8679459956177277\n",
    "    }\n",
    "}\n",
    "car_bbox = res['car']['bbox']\n",
    "license_plate_bbox = res['license_plate']['bbox']\n",
    "license_plate_text = res['license_plate']['text']\n",
    "license_plate_score = res['license_plate']['text_score']\n",
    "image = cv2.imread('sample.png')\n",
    "\n",
    "# Convert image to RGB (OpenCV uses BGR by default)\n",
    "image_rgb = cv2.cvtColor(image, cv2.COLOR_BGR2RGB)\n",
    "\n",
    "image_with_boxes = draw_border(image_rgb, car_bbox, license_plate_bbox, license_plate_text, license_plate_score)\n",
    "\n",
    "# Convert image to RGB (OpenCV uses BGR by default)\n",
    "image_rgb = cv2.cvtColor(image, cv2.COLOR_BGR2RGB)\n",
    "\n",
    "image_with_boxes = draw_border(image_rgb, car_bbox, license_plate_bbox, license_plate_text, license_plate_score)\n",
    "\n",
    "# Convert OpenCV image to PIL image\n",
    "pil_image = PILImage.fromarray(image_with_boxes)\n",
    "\n",
    "# Display the image using PIL (opens in default viewer)\n",
    "pil_image.crop(car_bbox).show()\n"
   ]
  },
  {
   "cell_type": "code",
   "execution_count": 4,
   "metadata": {},
   "outputs": [
    {
     "name": "stdout",
     "output_type": "stream",
     "text": [
      "Collecting peewee\n",
      "  Using cached peewee-3.17.5.tar.gz (3.0 MB)\n",
      "  Installing build dependencies: started\n",
      "  Installing build dependencies: finished with status 'done'\n",
      "  Getting requirements to build wheel: started\n",
      "  Getting requirements to build wheel: finished with status 'done'\n",
      "  Preparing metadata (pyproject.toml): started\n",
      "  Preparing metadata (pyproject.toml): finished with status 'done'\n",
      "Building wheels for collected packages: peewee\n",
      "  Building wheel for peewee (pyproject.toml): started\n",
      "  Building wheel for peewee (pyproject.toml): finished with status 'done'\n",
      "  Created wheel for peewee: filename=peewee-3.17.5-py3-none-any.whl size=138680 sha256=d3618369ce0680580efaf1dbebbb27ba2db8e89664aa849dab3948f19809ae42\n",
      "  Stored in directory: c:\\users\\harsh\\appdata\\local\\pip\\cache\\wheels\\d2\\cb\\9c\\c300d7bf782e07f1658c306743d5e30af7e4834001e4064a96\n",
      "Successfully built peewee\n",
      "Installing collected packages: peewee\n",
      "Successfully installed peewee-3.17.5\n"
     ]
    },
    {
     "name": "stderr",
     "output_type": "stream",
     "text": [
      "\n",
      "[notice] A new release of pip is available: 24.0 -> 24.1\n",
      "[notice] To update, run: python.exe -m pip install --upgrade pip\n"
     ]
    }
   ],
   "source": [
    "# !pip install peewee"
   ]
  },
  {
   "cell_type": "code",
   "execution_count": 11,
   "metadata": {},
   "outputs": [],
   "source": [
    "from peewee import *\n",
    "\n",
    "db = SqliteDatabase('vehicles.sqlite')\n",
    "\n",
    "class Vehicle(Model):\n",
    "    number_plate = CharField()\n",
    "    emission_done = BooleanField()\n",
    "    \n",
    "    def __str__(self): \n",
    "        return self.number_plate\n",
    "    \n",
    "    class Meta:\n",
    "        database = db # This model uses the \"people.db\" database.\n",
    "\n"
   ]
  },
  {
   "cell_type": "code",
   "execution_count": null,
   "metadata": {},
   "outputs": [],
   "source": [
    "# db.connect()\n",
    "# db.create_tables([Vehicle])"
   ]
  },
  {
   "cell_type": "code",
   "execution_count": 21,
   "metadata": {},
   "outputs": [
    {
     "data": {
      "text/plain": [
       "1"
      ]
     },
     "execution_count": 21,
     "metadata": {},
     "output_type": "execute_result"
    }
   ],
   "source": [
    "car = Vehicle(number_plate=\"MH20DV2363\", emission_done=True)\n",
    "car.save()"
   ]
  },
  {
   "cell_type": "code",
   "execution_count": 4,
   "metadata": {},
   "outputs": [
    {
     "data": {
      "text/plain": [
       "1"
      ]
     },
     "execution_count": 4,
     "metadata": {},
     "output_type": "execute_result"
    }
   ],
   "source": [
    "# Update\n",
    "car.emission_done = True\n",
    "car.save()"
   ]
  },
  {
   "cell_type": "code",
   "execution_count": 30,
   "metadata": {},
   "outputs": [
    {
     "name": "stdout",
     "output_type": "stream",
     "text": [
      "MH20DV2363\n"
     ]
    }
   ],
   "source": [
    "# Get single record with condition\n",
    "try:\n",
    "    print(Vehicle.get(Vehicle.number_plate == \"MH20DV2363\"))\n",
    "except Vehicle.DoesNotExist:\n",
    "    print(\"Vehicle not found\")"
   ]
  },
  {
   "cell_type": "code",
   "execution_count": 18,
   "metadata": {},
   "outputs": [
    {
     "name": "stdout",
     "output_type": "stream",
     "text": [
      " False\n",
      "AC12A4519 False\n",
      "AC12A4519 True\n"
     ]
    }
   ],
   "source": [
    "# All records\n",
    "for vehicle in Vehicle.select():\n",
    "    print(vehicle.number_plate, vehicle.emission_done)"
   ]
  },
  {
   "cell_type": "code",
   "execution_count": 20,
   "metadata": {},
   "outputs": [
    {
     "data": {
      "text/plain": [
       "3"
      ]
     },
     "execution_count": 20,
     "metadata": {},
     "output_type": "execute_result"
    }
   ],
   "source": [
    "# Delete all records\n",
    "Vehicle.delete().execute()"
   ]
  }
 ],
 "metadata": {
  "kernelspec": {
   "display_name": "yolo",
   "language": "python",
   "name": "python3"
  },
  "language_info": {
   "codemirror_mode": {
    "name": "ipython",
    "version": 3
   },
   "file_extension": ".py",
   "mimetype": "text/x-python",
   "name": "python",
   "nbconvert_exporter": "python",
   "pygments_lexer": "ipython3",
   "version": "3.11.9"
  }
 },
 "nbformat": 4,
 "nbformat_minor": 2
}
